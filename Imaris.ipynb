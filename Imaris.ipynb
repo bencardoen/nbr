{
 "cells": [
  {
   "cell_type": "markdown",
   "metadata": {},
   "source": [
    "### Read Imaris ims formatted files."
   ]
  },
  {
   "cell_type": "code",
   "execution_count": 1,
   "metadata": {},
   "outputs": [],
   "source": [
    "import h5py\n",
    "import os \n",
    "import seaborn as sns\n",
    "import pandas as pd\n",
    "# Path to ims file\n",
    "path = '/home/bcardoen/SFUVault/Shared/SuperResolution/Data/Rory/3dsegmentation'\n",
    "fname = 'NS4B2_ZIKV_KDEL_Rep2_May12018_2.ims'"
   ]
  },
  {
   "cell_type": "code",
   "execution_count": 2,
   "metadata": {},
   "outputs": [],
   "source": [
    "# Load data\n",
    "f = h5py.File(os.path.join(path,fname), 'r')"
   ]
  },
  {
   "cell_type": "code",
   "execution_count": 3,
   "metadata": {},
   "outputs": [
    {
     "name": "stdout",
     "output_type": "stream",
     "text": [
      "IMS file NS4B2_ZIKV_KDEL_Rep2_May12018_2.ims in /home/bcardoen/SFUVault/Shared/SuperResolution/Data/Rory/3dsegmentation has following entries:\n",
      "DataSetInfo DataSetTimes Scene8 Scene DataSet\n"
     ]
    }
   ],
   "source": [
    "print('IMS file {} in {} has following entries:'.format(fname, path))\n",
    "print(' '.join(f.keys()))"
   ]
  },
  {
   "cell_type": "code",
   "execution_count": 4,
   "metadata": {},
   "outputs": [
    {
     "name": "stdout",
     "output_type": "stream",
     "text": [
      "MetaData Entries:\n",
      "Image Dimension Z Dimension X TimeInfo Dimension Y Channel 2 Channel 1 ImarisDataSet Channel 0 Log Imaris\n",
      "Entry Image has no further information.\n",
      "Entry Dimension Z has no further information.\n",
      "Entry Dimension X has no further information.\n",
      "Entry TimeInfo has no further information.\n",
      "Entry Dimension Y has no further information.\n",
      "Entry Channel 2 has no further information.\n",
      "Entry Channel 1 has no further information.\n",
      "Entry ImarisDataSet has no further information.\n",
      "Entry Channel 0 has no further information.\n",
      "Entry Log has no further information.\n",
      "Entry Imaris has no further information.\n"
     ]
    }
   ],
   "source": [
    "# Metadata\n",
    "print('MetaData Entries:')\n",
    "d = f['DataSetInfo']\n",
    "print(' '.join(d.keys()))\n",
    "for kd in d.keys():\n",
    "    c = d[kd]\n",
    "    if c.keys():\n",
    "        print('Entry {} has {} keys'.format(kd, list(c.keys())))\n",
    "    else:\n",
    "        print('Entry {} has no further information.'.format(kd))"
   ]
  },
  {
   "cell_type": "code",
   "execution_count": 5,
   "metadata": {},
   "outputs": [
    {
     "name": "stdout",
     "output_type": "stream",
     "text": [
      "Scene8 Info:\n",
      "Content Data\n"
     ]
    }
   ],
   "source": [
    "print('Scene8 Info:')\n",
    "d = f['Scene8']\n",
    "print(' '.join(d.keys()))"
   ]
  },
  {
   "cell_type": "code",
   "execution_count": 6,
   "metadata": {},
   "outputs": [
    {
     "name": "stdout",
     "output_type": "stream",
     "text": [
      "Scene Info\n",
      "Content Data\n"
     ]
    }
   ],
   "source": [
    "print('Scene Info')\n",
    "d = f['Scene']\n",
    "print(' '.join(d.keys()))\n",
    "    "
   ]
  },
  {
   "cell_type": "code",
   "execution_count": 7,
   "metadata": {},
   "outputs": [
    {
     "name": "stdout",
     "output_type": "stream",
     "text": [
      "CoordsXYZR Time TimeInfos\n"
     ]
    }
   ],
   "source": [
    "print(' '.join(d['Content']['Points0'].keys()))"
   ]
  },
  {
   "cell_type": "code",
   "execution_count": 8,
   "metadata": {},
   "outputs": [],
   "source": [
    "pts = d['Content']['Points0']"
   ]
  },
  {
   "cell_type": "code",
   "execution_count": 9,
   "metadata": {},
   "outputs": [
    {
     "name": "stdout",
     "output_type": "stream",
     "text": [
      "CoordsXYZR Time TimeInfos\n",
      "[32.205517   2.7959208  4.0968246  0.15     ]\n"
     ]
    }
   ],
   "source": [
    "print(' '.join(pts.keys()))\n",
    "d['Content']['Points0']['CoordsXYZR'].shape\n",
    "print(d['Content']['Points0']['CoordsXYZR'][0])"
   ]
  },
  {
   "cell_type": "markdown",
   "metadata": {},
   "source": [
    "##### Plot the XY density of the RNA vesicles."
   ]
  },
  {
   "cell_type": "code",
   "execution_count": 10,
   "metadata": {},
   "outputs": [
    {
     "name": "stderr",
     "output_type": "stream",
     "text": [
      "/home/bcardoen/miniconda3/envs/nbr/lib/python3.7/site-packages/scipy/stats/stats.py:1713: FutureWarning: Using a non-tuple sequence for multidimensional indexing is deprecated; use `arr[tuple(seq)]` instead of `arr[seq]`. In the future this will be interpreted as an array index, `arr[np.array(seq)]`, which will result either in an error or a different result.\n",
      "  return np.add.reduce(sorted[indexer] * weights, axis=axis) / sumval\n"
     ]
    },
    {
     "data": {
      "image/png": "[encoded data removed]",
      "text/plain": [
       "<Figure size 432x432 with 3 Axes>"
      ]
     },
     "metadata": {
      "needs_background": "light"
     },
     "output_type": "display_data"
    }
   ],
   "source": [
    "# sns.distplot(d['Content']['Points0']['CoordsXYZR'][:,])\n",
    "data = d['Content']['Points0']['CoordsXYZR']\n",
    "df = pd.DataFrame({'X': data[:,0], 'Y': data[:,1]})\n",
    "sns.jointplot(x= 'X', y= 'Y',data=df, kind=\"kde\");"
   ]
  },
  {
   "cell_type": "code",
   "execution_count": null,
   "metadata": {},
   "outputs": [],
   "source": []
  }
 ],
 "metadata": {
  "kernelspec": {
   "display_name": "Python 3",
   "language": "python",
   "name": "python3"
  },
  "language_info": {
   "codemirror_mode": {
    "name": "ipython",
    "version": 3
   },
   "file_extension": ".py",
   "mimetype": "text/x-python",
   "name": "python",
   "nbconvert_exporter": "python",
   "pygments_lexer": "ipython3",
   "version": "3.7.0"
  }
 },
 "nbformat": 4,
 "nbformat_minor": 2
}
