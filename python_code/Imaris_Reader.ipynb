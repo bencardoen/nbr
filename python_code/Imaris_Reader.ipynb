{
 "cells": [
  {
   "cell_type": "markdown",
   "metadata": {},
   "source": [
    "## Statistics extraction from Imaris"
   ]
  },
  {
   "cell_type": "markdown",
   "metadata": {},
   "source": [
    "#### Load required libraries"
   ]
  },
  {
   "cell_type": "code",
   "execution_count": 54,
   "metadata": {},
   "outputs": [],
   "source": [
    "import seaborn as sns\n",
    "import pandas as pd\n",
    "import numpy as np\n",
    "import os\n",
    "import tools.tools as tls\n",
    "import tools.globalsettings as gbs\n",
    "logr = gbs.lgr"
   ]
  },
  {
   "cell_type": "code",
   "execution_count": 13,
   "metadata": {},
   "outputs": [],
   "source": [
    "inpath = '/home/bcardoen/mountcedar/project/data/nabi-robert-ivan/RL.ZikaEr.001/Imaris_Export_20181126/Imaris_ER_Analysis'\n",
    "outpath = '/home/bcardoen/SFUVault/Repositories/nbr/output'"
   ]
  },
  {
   "cell_type": "code",
   "execution_count": 94,
   "metadata": {},
   "outputs": [],
   "source": [
    "logr = gbs.lgr\n",
    "def parse_filename(fname):\n",
    "    '''\n",
    "    Get the date, infected state, cellid, replicate number, ER marker\n",
    "    '''\n",
    "    keys = ['date', 'infected', 'cellid', 'repnr', 'ermarker']\n",
    "    contents = fname.split('_')\n",
    "    infecteds = ['Mock','ZIKV']\n",
    "    markers = ['KDEL', 'Sec61']\n",
    "    Rep = 'Rep'\n",
    "    date = None\n",
    "    infected = None\n",
    "    cellid = None\n",
    "    repnr = None\n",
    "    ermarker = None\n",
    "    for c in contents:\n",
    "        if '201' in c and not date: \n",
    "            if '2018' not in c:\n",
    "                date = c + '8'\n",
    "            else:\n",
    "                date = c\n",
    "        if infected is None:\n",
    "            for i in infecteds:\n",
    "                if i in c:\n",
    "                    infected = bool(infecteds.index(i))\n",
    "                    break\n",
    "        if 'Series' in c and not cellid:\n",
    "            start = c.index('Series')\n",
    "            digit = c[start + len('Series'):]\n",
    "            try:\n",
    "                cellid = int(digit)\n",
    "            except ValueError as e:\n",
    "                logr.error('\\t  Failed to decode cellnr {} --> Not an integer for filename \\n{}'.format(digit, fname))\n",
    "                raise e\n",
    "        if 'Rep' in c and not repnr:\n",
    "            digit = c.replace('Rep', '')\n",
    "            try:\n",
    "                repnr = int(digit)\n",
    "            except ValueError as e:\n",
    "                logr.error('\\t  Failed to decode Repnr {} --> Not an integer for filename \\n{}'.format(digit, fname))\n",
    "        if not ermarker:\n",
    "            for marker in markers:\n",
    "                if marker in c:\n",
    "                    ermarker = marker\n",
    "                    break\n",
    "    if date and '14' in date:  # Edge case\n",
    "        if repnr == 2:\n",
    "            repnr = 1\n",
    "    res = {'date':date, 'infected':infected, 'cellid':cellid, 'repnr':repnr, 'ermarker':ermarker}\n",
    "    if date and infected and cellid and repnr and ermarker:\n",
    "        return res\n",
    "    else:\n",
    "        logr.error('Failed decodion {} \\n {}'.format(fname, res))\n",
    "        raise ValueError('{} failed decoding'.format(fname))"
   ]
  },
  {
   "cell_type": "code",
   "execution_count": 160,
   "metadata": {},
   "outputs": [],
   "source": [
    "def _check_feature(featurenames, fname):\n",
    "    logr.info('\\t Checking for features {}'.format(featurenames))\n",
    "    for f in featurenames:\n",
    "        p = fname.find(f)\n",
    "        if p != -1:\n",
    "            logr.info('\\t Found {} in {}'.format(f, fname))\n",
    "            return f\n",
    "    return None\n",
    "    \n",
    "\n",
    "selected = ['Volume', 'Area', 'BoundingBoxAA_Length', 'Sphericity']\n",
    "def parse_directory(dirname, featurenames = None):\n",
    "    if featurenames is None:\n",
    "        featurenames = selected\n",
    "    logr.info('\\tSelected Features: {}'.format(featurenames))\n",
    "    dirtree = tls.treedir(dirname)\n",
    "    logr.info('\\t Found {} files'.format(len(dirtree.keys())))\n",
    "    rx = {}\n",
    "    for fname, ct in dirtree.items():\n",
    "        if fname.endswith('.csv'):\n",
    "#             logr.info('\\t Found csv file')\n",
    "            \n",
    "            feature = _check_feature(featurenames, fname)\n",
    "            if feature is None:\n",
    "#                 logr.info('No feature selected, skipping')\n",
    "                continue\n",
    "            logr.info('\\t Feature FOUND{}'.format(feature))\n",
    "            logr.info('\\t Reading csv file')\n",
    "            res = parse_featurefile(ct)\n",
    "            for k, v in res.items():\n",
    "                key = '{}_{}'.format(feature, k)\n",
    "                if key in rx:\n",
    "                    logr.error('ERROR : {} already in rx'.format(key))\n",
    "                    raise ValueError\n",
    "                else:\n",
    "                    rx['{}_{}'.format(feature, k)] = v\n",
    "    return rx\n",
    "            \n",
    "    # For each CSV in the directory\n",
    "    # If feature is in the filename list\n",
    "    # Load the CSV, strip the 3 first lines\n",
    "    # Load the first column, save it as feature name\n",
    "    # Compute mean, median, std, N, min, max, sum\n",
    "    # save in a pandas frame\n",
    "    \n",
    "def parse_featurefile(csvfile):\n",
    "    try:\n",
    "        data = np.loadtxt(csvfile,comments='#',delimiter=',',skiprows=4, usecols=0)\n",
    "        values = data\n",
    "        stats = {'mean':np.mean(values), 'std':np.std(values), \n",
    "                 'sum':np.sum(values), 'min':np.min(values), \n",
    "                 'max':np.max(values), 'median':np.median(values), \n",
    "                 'N':len(values)}\n",
    "        return stats\n",
    "    except:\n",
    "        lgr.error('Failed decoding csv {}'.format(csvfile))"
   ]
  },
  {
   "cell_type": "code",
   "execution_count": 14,
   "metadata": {},
   "outputs": [],
   "source": [
    "tree = tls.treedir(inpath)"
   ]
  },
  {
   "cell_type": "code",
   "execution_count": 23,
   "metadata": {},
   "outputs": [
    {
     "name": "stdout",
     "output_type": "stream",
     "text": [
      "\t Have conditions:\n",
      "['ER_withdsRNA_NS4B', 'Central_ER_without_dsRNA', 'ER_CentralER_by boundingboxZ', 'Peripheral_ER_with_dsRNA_NS4B', 'Central_ER_with_NS4B', 'Central_ER_with_dsRNA', 'ER_with_dsRNA', 'Central_ER_with_dsRNA_NS4B', 'ER_with_NS4B', 'ER_PeripheralER_by_boundingboxZ', 'Peripheral_ER_with_NS4B']\n"
     ]
    }
   ],
   "source": [
    "print('\\t Have conditions:')\n",
    "conditions = [k for (k,v) in tree.items() if isinstance(v, dict)]"
   ]
  },
  {
   "cell_type": "code",
   "execution_count": 102,
   "metadata": {},
   "outputs": [
    {
     "name": "stdout",
     "output_type": "stream",
     "text": [
      "\t ER_withdsRNA_NS4B\n",
      "\t Central_ER_without_dsRNA\n",
      "\t ER_CentralER_by boundingboxZ\n",
      "\t Peripheral_ER_with_dsRNA_NS4B\n",
      "\t Central_ER_with_NS4B\n",
      "\t Central_ER_with_dsRNA\n",
      "\t ER_with_dsRNA\n",
      "\t Central_ER_with_dsRNA_NS4B\n",
      "\t ER_with_NS4B\n",
      "\t ER_PeripheralER_by_boundingboxZ\n",
      "\t Peripheral_ER_with_NS4B\n"
     ]
    }
   ],
   "source": [
    "data = {}\n",
    "for C in conditions:\n",
    "    print('\\t {}'.format(C))\n",
    "    for fname, ct in tree[C].items():\n",
    "        if isinstance(ct, dict):\n",
    "            if fname.endswith('Statistics'):\n",
    "                result = parse_filename(fname)\n",
    "                result['condition'] = C\n",
    "                key = tuple((k, result[k]) for k in sorted(result.keys()))\n",
    "                if key not in data:\n",
    "                    data[key] = fname\n",
    "                else:\n",
    "                    logr.error('ERROR : {} is duplicate'.format(key))\n",
    "                    logr.error('ERROR : Old entry by fname {}'.format(data[key]))\n",
    "                    logr.error('ERROR : new entry by fname {}'.format(fname))\n",
    "                    logr.error('ERROR : Treatment = {}'.format(C))\n",
    "                    raise ValueError"
   ]
  },
  {
   "cell_type": "code",
   "execution_count": 109,
   "metadata": {},
   "outputs": [],
   "source": [
    "d = parse_featurefile('/home/bcardoen/mountcedar/project/data/nabi-robert-ivan/RL.ZikaEr.001/Imaris_Export_20181126/Imaris_ER_Analysis/ER_PeripheralER_by_boundingboxZ/NS4B2_ZIKV_KDEL_500_3D_Rep2_April142018_2_C0_Z000_Series003_Statistics/NS4B2_ZIKV_KDEL_500_3D_Rep2_April142018_2_C0_Z000Series003_Area.csv')"
   ]
  },
  {
   "cell_type": "code",
   "execution_count": 110,
   "metadata": {},
   "outputs": [
    {
     "data": {
      "text/plain": [
       "{'mean': 0.5658937168924639,\n",
       " 'std': 0.46757971955809075,\n",
       " 'sum': 1336.6409592999998,\n",
       " 'min': 0.0413095,\n",
       " 'max': 3.45479,\n",
       " 'median': 0.456437,\n",
       " 'N': 2362}"
      ]
     },
     "execution_count": 110,
     "metadata": {},
     "output_type": "execute_result"
    }
   ],
   "source": [
    "d"
   ]
  },
  {
   "cell_type": "code",
   "execution_count": 161,
   "metadata": {},
   "outputs": [
    {
     "name": "stderr",
     "output_type": "stream",
     "text": [
      "[<ipython-input-160-3a021b121bab>:15 -      parse_directory() ] \tSelected Features: ['Volume', 'Area', 'BoundingBoxAA_Length', 'Sphericity']\n",
      "[<ipython-input-160-3a021b121bab>:17 -      parse_directory() ] \t Found 56 files\n",
      "[<ipython-input-160-3a021b121bab>:2 -       _check_feature() ] \t Checking for features ['Volume', 'Area', 'BoundingBoxAA_Length', 'Sphericity']\n",
      "[<ipython-input-160-3a021b121bab>:2 -       _check_feature() ] \t Checking for features ['Volume', 'Area', 'BoundingBoxAA_Length', 'Sphericity']\n",
      "[<ipython-input-160-3a021b121bab>:2 -       _check_feature() ] \t Checking for features ['Volume', 'Area', 'BoundingBoxAA_Length', 'Sphericity']\n",
      "[<ipython-input-160-3a021b121bab>:2 -       _check_feature() ] \t Checking for features ['Volume', 'Area', 'BoundingBoxAA_Length', 'Sphericity']\n",
      "[<ipython-input-160-3a021b121bab>:2 -       _check_feature() ] \t Checking for features ['Volume', 'Area', 'BoundingBoxAA_Length', 'Sphericity']\n",
      "[<ipython-input-160-3a021b121bab>:2 -       _check_feature() ] \t Checking for features ['Volume', 'Area', 'BoundingBoxAA_Length', 'Sphericity']\n",
      "[<ipython-input-160-3a021b121bab>:2 -       _check_feature() ] \t Checking for features ['Volume', 'Area', 'BoundingBoxAA_Length', 'Sphericity']\n",
      "[<ipython-input-160-3a021b121bab>:2 -       _check_feature() ] \t Checking for features ['Volume', 'Area', 'BoundingBoxAA_Length', 'Sphericity']\n",
      "[<ipython-input-160-3a021b121bab>:2 -       _check_feature() ] \t Checking for features ['Volume', 'Area', 'BoundingBoxAA_Length', 'Sphericity']\n",
      "[<ipython-input-160-3a021b121bab>:2 -       _check_feature() ] \t Checking for features ['Volume', 'Area', 'BoundingBoxAA_Length', 'Sphericity']\n",
      "[<ipython-input-160-3a021b121bab>:2 -       _check_feature() ] \t Checking for features ['Volume', 'Area', 'BoundingBoxAA_Length', 'Sphericity']\n",
      "[<ipython-input-160-3a021b121bab>:2 -       _check_feature() ] \t Checking for features ['Volume', 'Area', 'BoundingBoxAA_Length', 'Sphericity']\n",
      "[<ipython-input-160-3a021b121bab>:2 -       _check_feature() ] \t Checking for features ['Volume', 'Area', 'BoundingBoxAA_Length', 'Sphericity']\n",
      "[<ipython-input-160-3a021b121bab>:2 -       _check_feature() ] \t Checking for features ['Volume', 'Area', 'BoundingBoxAA_Length', 'Sphericity']\n",
      "[<ipython-input-160-3a021b121bab>:2 -       _check_feature() ] \t Checking for features ['Volume', 'Area', 'BoundingBoxAA_Length', 'Sphericity']\n",
      "[<ipython-input-160-3a021b121bab>:2 -       _check_feature() ] \t Checking for features ['Volume', 'Area', 'BoundingBoxAA_Length', 'Sphericity']\n",
      "[<ipython-input-160-3a021b121bab>:6 -       _check_feature() ] \t Found BoundingBoxAA_Length in NS4B2_ZIKV_KDEL_500_3D_Rep2_April142018_2_C0_Z000Series003_BoundingBoxAA_Length.csv\n",
      "[<ipython-input-160-3a021b121bab>:27 -      parse_directory() ] \t Feature FOUNDBoundingBoxAA_Length\n",
      "[<ipython-input-160-3a021b121bab>:28 -      parse_directory() ] \t Reading csv file\n",
      "[<ipython-input-160-3a021b121bab>:2 -       _check_feature() ] \t Checking for features ['Volume', 'Area', 'BoundingBoxAA_Length', 'Sphericity']\n",
      "[<ipython-input-160-3a021b121bab>:2 -       _check_feature() ] \t Checking for features ['Volume', 'Area', 'BoundingBoxAA_Length', 'Sphericity']\n",
      "[<ipython-input-160-3a021b121bab>:2 -       _check_feature() ] \t Checking for features ['Volume', 'Area', 'BoundingBoxAA_Length', 'Sphericity']\n",
      "[<ipython-input-160-3a021b121bab>:2 -       _check_feature() ] \t Checking for features ['Volume', 'Area', 'BoundingBoxAA_Length', 'Sphericity']\n",
      "[<ipython-input-160-3a021b121bab>:2 -       _check_feature() ] \t Checking for features ['Volume', 'Area', 'BoundingBoxAA_Length', 'Sphericity']\n",
      "[<ipython-input-160-3a021b121bab>:2 -       _check_feature() ] \t Checking for features ['Volume', 'Area', 'BoundingBoxAA_Length', 'Sphericity']\n",
      "[<ipython-input-160-3a021b121bab>:2 -       _check_feature() ] \t Checking for features ['Volume', 'Area', 'BoundingBoxAA_Length', 'Sphericity']\n",
      "[<ipython-input-160-3a021b121bab>:2 -       _check_feature() ] \t Checking for features ['Volume', 'Area', 'BoundingBoxAA_Length', 'Sphericity']\n",
      "[<ipython-input-160-3a021b121bab>:2 -       _check_feature() ] \t Checking for features ['Volume', 'Area', 'BoundingBoxAA_Length', 'Sphericity']\n",
      "[<ipython-input-160-3a021b121bab>:2 -       _check_feature() ] \t Checking for features ['Volume', 'Area', 'BoundingBoxAA_Length', 'Sphericity']\n",
      "[<ipython-input-160-3a021b121bab>:2 -       _check_feature() ] \t Checking for features ['Volume', 'Area', 'BoundingBoxAA_Length', 'Sphericity']\n",
      "[<ipython-input-160-3a021b121bab>:2 -       _check_feature() ] \t Checking for features ['Volume', 'Area', 'BoundingBoxAA_Length', 'Sphericity']\n",
      "[<ipython-input-160-3a021b121bab>:2 -       _check_feature() ] \t Checking for features ['Volume', 'Area', 'BoundingBoxAA_Length', 'Sphericity']\n",
      "[<ipython-input-160-3a021b121bab>:2 -       _check_feature() ] \t Checking for features ['Volume', 'Area', 'BoundingBoxAA_Length', 'Sphericity']\n",
      "[<ipython-input-160-3a021b121bab>:2 -       _check_feature() ] \t Checking for features ['Volume', 'Area', 'BoundingBoxAA_Length', 'Sphericity']\n",
      "[<ipython-input-160-3a021b121bab>:2 -       _check_feature() ] \t Checking for features ['Volume', 'Area', 'BoundingBoxAA_Length', 'Sphericity']\n",
      "[<ipython-input-160-3a021b121bab>:2 -       _check_feature() ] \t Checking for features ['Volume', 'Area', 'BoundingBoxAA_Length', 'Sphericity']\n",
      "[<ipython-input-160-3a021b121bab>:6 -       _check_feature() ] \t Found Area in NS4B2_ZIKV_KDEL_500_3D_Rep2_April142018_2_C0_Z000Series003_Area.csv\n",
      "[<ipython-input-160-3a021b121bab>:27 -      parse_directory() ] \t Feature FOUNDArea\n",
      "[<ipython-input-160-3a021b121bab>:28 -      parse_directory() ] \t Reading csv file\n",
      "[<ipython-input-160-3a021b121bab>:2 -       _check_feature() ] \t Checking for features ['Volume', 'Area', 'BoundingBoxAA_Length', 'Sphericity']\n",
      "[<ipython-input-160-3a021b121bab>:2 -       _check_feature() ] \t Checking for features ['Volume', 'Area', 'BoundingBoxAA_Length', 'Sphericity']\n",
      "[<ipython-input-160-3a021b121bab>:2 -       _check_feature() ] \t Checking for features ['Volume', 'Area', 'BoundingBoxAA_Length', 'Sphericity']\n",
      "[<ipython-input-160-3a021b121bab>:2 -       _check_feature() ] \t Checking for features ['Volume', 'Area', 'BoundingBoxAA_Length', 'Sphericity']\n",
      "[<ipython-input-160-3a021b121bab>:2 -       _check_feature() ] \t Checking for features ['Volume', 'Area', 'BoundingBoxAA_Length', 'Sphericity']\n",
      "[<ipython-input-160-3a021b121bab>:2 -       _check_feature() ] \t Checking for features ['Volume', 'Area', 'BoundingBoxAA_Length', 'Sphericity']\n",
      "[<ipython-input-160-3a021b121bab>:2 -       _check_feature() ] \t Checking for features ['Volume', 'Area', 'BoundingBoxAA_Length', 'Sphericity']\n",
      "[<ipython-input-160-3a021b121bab>:2 -       _check_feature() ] \t Checking for features ['Volume', 'Area', 'BoundingBoxAA_Length', 'Sphericity']\n",
      "[<ipython-input-160-3a021b121bab>:2 -       _check_feature() ] \t Checking for features ['Volume', 'Area', 'BoundingBoxAA_Length', 'Sphericity']\n",
      "[<ipython-input-160-3a021b121bab>:2 -       _check_feature() ] \t Checking for features ['Volume', 'Area', 'BoundingBoxAA_Length', 'Sphericity']\n",
      "[<ipython-input-160-3a021b121bab>:2 -       _check_feature() ] \t Checking for features ['Volume', 'Area', 'BoundingBoxAA_Length', 'Sphericity']\n",
      "[<ipython-input-160-3a021b121bab>:2 -       _check_feature() ] \t Checking for features ['Volume', 'Area', 'BoundingBoxAA_Length', 'Sphericity']\n",
      "[<ipython-input-160-3a021b121bab>:2 -       _check_feature() ] \t Checking for features ['Volume', 'Area', 'BoundingBoxAA_Length', 'Sphericity']\n",
      "[<ipython-input-160-3a021b121bab>:2 -       _check_feature() ] \t Checking for features ['Volume', 'Area', 'BoundingBoxAA_Length', 'Sphericity']\n",
      "[<ipython-input-160-3a021b121bab>:2 -       _check_feature() ] \t Checking for features ['Volume', 'Area', 'BoundingBoxAA_Length', 'Sphericity']\n",
      "[<ipython-input-160-3a021b121bab>:2 -       _check_feature() ] \t Checking for features ['Volume', 'Area', 'BoundingBoxAA_Length', 'Sphericity']\n",
      "[<ipython-input-160-3a021b121bab>:2 -       _check_feature() ] \t Checking for features ['Volume', 'Area', 'BoundingBoxAA_Length', 'Sphericity']\n",
      "[<ipython-input-160-3a021b121bab>:2 -       _check_feature() ] \t Checking for features ['Volume', 'Area', 'BoundingBoxAA_Length', 'Sphericity']\n"
     ]
    },
    {
     "name": "stderr",
     "output_type": "stream",
     "text": [
      "[<ipython-input-160-3a021b121bab>:2 -       _check_feature() ] \t Checking for features ['Volume', 'Area', 'BoundingBoxAA_Length', 'Sphericity']\n",
      "[<ipython-input-160-3a021b121bab>:2 -       _check_feature() ] \t Checking for features ['Volume', 'Area', 'BoundingBoxAA_Length', 'Sphericity']\n",
      "[<ipython-input-160-3a021b121bab>:2 -       _check_feature() ] \t Checking for features ['Volume', 'Area', 'BoundingBoxAA_Length', 'Sphericity']\n",
      "[<ipython-input-160-3a021b121bab>:2 -       _check_feature() ] \t Checking for features ['Volume', 'Area', 'BoundingBoxAA_Length', 'Sphericity']\n",
      "[<ipython-input-160-3a021b121bab>:6 -       _check_feature() ] \t Found Sphericity in NS4B2_ZIKV_KDEL_500_3D_Rep2_April142018_2_C0_Z000Series003_Sphericity.csv\n",
      "[<ipython-input-160-3a021b121bab>:27 -      parse_directory() ] \t Feature FOUNDSphericity\n",
      "[<ipython-input-160-3a021b121bab>:28 -      parse_directory() ] \t Reading csv file\n",
      "[<ipython-input-160-3a021b121bab>:2 -       _check_feature() ] \t Checking for features ['Volume', 'Area', 'BoundingBoxAA_Length', 'Sphericity']\n",
      "[<ipython-input-160-3a021b121bab>:6 -       _check_feature() ] \t Found Volume in NS4B2_ZIKV_KDEL_500_3D_Rep2_April142018_2_C0_Z000Series003_Volume.csv\n",
      "[<ipython-input-160-3a021b121bab>:27 -      parse_directory() ] \t Feature FOUNDVolume\n",
      "[<ipython-input-160-3a021b121bab>:28 -      parse_directory() ] \t Reading csv file\n"
     ]
    }
   ],
   "source": [
    "q = parse_directory('/home/bcardoen/mountcedar/project/data/nabi-robert-ivan/RL.ZikaEr.001/Imaris_Export_20181126/Imaris_ER_Analysis/ER_PeripheralER_by_boundingboxZ/NS4B2_ZIKV_KDEL_500_3D_Rep2_April142018_2_C0_Z000_Series003_Statistics')"
   ]
  },
  {
   "cell_type": "code",
   "execution_count": 162,
   "metadata": {},
   "outputs": [
    {
     "data": {
      "text/plain": [
       "{'BoundingBoxAA_Length_mean': 0.7328836782387805,\n",
       " 'BoundingBoxAA_Length_std': 0.2199456814238745,\n",
       " 'BoundingBoxAA_Length_sum': 1731.0712479999997,\n",
       " 'BoundingBoxAA_Length_min': 0.42057,\n",
       " 'BoundingBoxAA_Length_max': 1.05143,\n",
       " 'BoundingBoxAA_Length_median': 0.841141,\n",
       " 'BoundingBoxAA_Length_N': 2362,\n",
       " 'Area_mean': 0.5658937168924639,\n",
       " 'Area_std': 0.46757971955809075,\n",
       " 'Area_sum': 1336.6409592999998,\n",
       " 'Area_min': 0.0413095,\n",
       " 'Area_max': 3.45479,\n",
       " 'Area_median': 0.456437,\n",
       " 'Area_N': 2362,\n",
       " 'Sphericity_mean': 0.744764451312447,\n",
       " 'Sphericity_std': 0.10988439116159224,\n",
       " 'Sphericity_sum': 1759.1336339999998,\n",
       " 'Sphericity_min': 0.445985,\n",
       " 'Sphericity_max': 0.960892,\n",
       " 'Sphericity_median': 0.744698,\n",
       " 'Sphericity_N': 2362,\n",
       " 'Volume_mean': 0.026126296563928873,\n",
       " 'Volume_std': 0.02628750684023818,\n",
       " 'Volume_sum': 61.710312484,\n",
       " 'Volume_min': 0.000520917,\n",
       " 'Volume_max': 0.184908,\n",
       " 'Volume_median': 0.0186598,\n",
       " 'Volume_N': 2362}"
      ]
     },
     "execution_count": 162,
     "metadata": {},
     "output_type": "execute_result"
    }
   ],
   "source": [
    "q"
   ]
  },
  {
   "cell_type": "code",
   "execution_count": null,
   "metadata": {},
   "outputs": [],
   "source": []
  }
 ],
 "metadata": {
  "kernelspec": {
   "display_name": "Python 3",
   "language": "python",
   "name": "python3"
  },
  "language_info": {
   "codemirror_mode": {
    "name": "ipython",
    "version": 3
   },
   "file_extension": ".py",
   "mimetype": "text/x-python",
   "name": "python",
   "nbconvert_exporter": "python",
   "pygments_lexer": "ipython3",
   "version": "3.7.0"
  }
 },
 "nbformat": 4,
 "nbformat_minor": 2
}
